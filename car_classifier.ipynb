{
  "nbformat": 4,
  "nbformat_minor": 0,
  "metadata": {
    "colab": {
      "name": "car-classifier.ipynb",
      "provenance": [],
      "collapsed_sections": [],
      "toc_visible": true,
      "machine_shape": "hm"
    },
    "kernelspec": {
      "name": "python3",
      "display_name": "Python 3"
    },
    "accelerator": "GPU"
  },
  "cells": [
    {
      "cell_type": "code",
      "metadata": {
        "id": "r7WgV3mh7Dwh",
        "colab_type": "code",
        "outputId": "e9536c8c-cdfa-41f5-ffa1-cebab6e6c8bd",
        "colab": {
          "base_uri": "https://localhost:8080/",
          "height": 776
        }
      },
      "source": [
        "pip install livelossplot"
      ],
      "execution_count": 0,
      "outputs": [
        {
          "output_type": "stream",
          "text": [
            "Collecting livelossplot\n",
            "  Downloading https://files.pythonhosted.org/packages/8e/f6/0618c30078f9c1e4b2cd84f1ea6bb70c6615070468b75b0d934326107bcd/livelossplot-0.4.1-py3-none-any.whl\n",
            "Requirement already satisfied: notebook in /usr/local/lib/python3.6/dist-packages (from livelossplot) (5.2.2)\n",
            "Requirement already satisfied: matplotlib in /usr/local/lib/python3.6/dist-packages (from livelossplot) (3.1.1)\n",
            "Requirement already satisfied: terminado>=0.3.3; sys_platform != \"win32\" in /usr/local/lib/python3.6/dist-packages (from notebook->livelossplot) (0.8.3)\n",
            "Requirement already satisfied: jinja2 in /usr/local/lib/python3.6/dist-packages (from notebook->livelossplot) (2.10.3)\n",
            "Requirement already satisfied: tornado>=4 in /usr/local/lib/python3.6/dist-packages (from notebook->livelossplot) (4.5.3)\n",
            "Requirement already satisfied: jupyter-core in /usr/local/lib/python3.6/dist-packages (from notebook->livelossplot) (4.6.1)\n",
            "Requirement already satisfied: jupyter-client in /usr/local/lib/python3.6/dist-packages (from notebook->livelossplot) (5.3.4)\n",
            "Requirement already satisfied: nbformat in /usr/local/lib/python3.6/dist-packages (from notebook->livelossplot) (4.4.0)\n",
            "Requirement already satisfied: traitlets>=4.2.1 in /usr/local/lib/python3.6/dist-packages (from notebook->livelossplot) (4.3.3)\n",
            "Requirement already satisfied: ipython-genutils in /usr/local/lib/python3.6/dist-packages (from notebook->livelossplot) (0.2.0)\n",
            "Requirement already satisfied: nbconvert in /usr/local/lib/python3.6/dist-packages (from notebook->livelossplot) (5.6.1)\n",
            "Requirement already satisfied: ipykernel in /usr/local/lib/python3.6/dist-packages (from notebook->livelossplot) (4.6.1)\n",
            "Requirement already satisfied: numpy>=1.11 in /usr/local/lib/python3.6/dist-packages (from matplotlib->livelossplot) (1.17.4)\n",
            "Requirement already satisfied: python-dateutil>=2.1 in /usr/local/lib/python3.6/dist-packages (from matplotlib->livelossplot) (2.6.1)\n",
            "Requirement already satisfied: kiwisolver>=1.0.1 in /usr/local/lib/python3.6/dist-packages (from matplotlib->livelossplot) (1.1.0)\n",
            "Requirement already satisfied: cycler>=0.10 in /usr/local/lib/python3.6/dist-packages (from matplotlib->livelossplot) (0.10.0)\n",
            "Requirement already satisfied: pyparsing!=2.0.4,!=2.1.2,!=2.1.6,>=2.0.1 in /usr/local/lib/python3.6/dist-packages (from matplotlib->livelossplot) (2.4.5)\n",
            "Requirement already satisfied: ptyprocess; os_name != \"nt\" in /usr/local/lib/python3.6/dist-packages (from terminado>=0.3.3; sys_platform != \"win32\"->notebook->livelossplot) (0.6.0)\n",
            "Requirement already satisfied: MarkupSafe>=0.23 in /usr/local/lib/python3.6/dist-packages (from jinja2->notebook->livelossplot) (1.1.1)\n",
            "Requirement already satisfied: pyzmq>=13 in /usr/local/lib/python3.6/dist-packages (from jupyter-client->notebook->livelossplot) (17.0.0)\n",
            "Requirement already satisfied: jsonschema!=2.5.0,>=2.4 in /usr/local/lib/python3.6/dist-packages (from nbformat->notebook->livelossplot) (2.6.0)\n",
            "Requirement already satisfied: decorator in /usr/local/lib/python3.6/dist-packages (from traitlets>=4.2.1->notebook->livelossplot) (4.4.1)\n",
            "Requirement already satisfied: six in /usr/local/lib/python3.6/dist-packages (from traitlets>=4.2.1->notebook->livelossplot) (1.12.0)\n",
            "Requirement already satisfied: pygments in /usr/local/lib/python3.6/dist-packages (from nbconvert->notebook->livelossplot) (2.1.3)\n",
            "Requirement already satisfied: entrypoints>=0.2.2 in /usr/local/lib/python3.6/dist-packages (from nbconvert->notebook->livelossplot) (0.3)\n",
            "Requirement already satisfied: bleach in /usr/local/lib/python3.6/dist-packages (from nbconvert->notebook->livelossplot) (3.1.0)\n",
            "Requirement already satisfied: mistune<2,>=0.8.1 in /usr/local/lib/python3.6/dist-packages (from nbconvert->notebook->livelossplot) (0.8.4)\n",
            "Requirement already satisfied: defusedxml in /usr/local/lib/python3.6/dist-packages (from nbconvert->notebook->livelossplot) (0.6.0)\n",
            "Requirement already satisfied: pandocfilters>=1.4.1 in /usr/local/lib/python3.6/dist-packages (from nbconvert->notebook->livelossplot) (1.4.2)\n",
            "Requirement already satisfied: testpath in /usr/local/lib/python3.6/dist-packages (from nbconvert->notebook->livelossplot) (0.4.4)\n",
            "Requirement already satisfied: ipython>=4.0.0 in /usr/local/lib/python3.6/dist-packages (from ipykernel->notebook->livelossplot) (5.5.0)\n",
            "Requirement already satisfied: setuptools in /usr/local/lib/python3.6/dist-packages (from kiwisolver>=1.0.1->matplotlib->livelossplot) (41.6.0)\n",
            "Requirement already satisfied: webencodings in /usr/local/lib/python3.6/dist-packages (from bleach->nbconvert->notebook->livelossplot) (0.5.1)\n",
            "Requirement already satisfied: pickleshare in /usr/local/lib/python3.6/dist-packages (from ipython>=4.0.0->ipykernel->notebook->livelossplot) (0.7.5)\n",
            "Requirement already satisfied: pexpect; sys_platform != \"win32\" in /usr/local/lib/python3.6/dist-packages (from ipython>=4.0.0->ipykernel->notebook->livelossplot) (4.7.0)\n",
            "Requirement already satisfied: prompt-toolkit<2.0.0,>=1.0.4 in /usr/local/lib/python3.6/dist-packages (from ipython>=4.0.0->ipykernel->notebook->livelossplot) (1.0.18)\n",
            "Requirement already satisfied: simplegeneric>0.8 in /usr/local/lib/python3.6/dist-packages (from ipython>=4.0.0->ipykernel->notebook->livelossplot) (0.8.1)\n",
            "Requirement already satisfied: wcwidth in /usr/local/lib/python3.6/dist-packages (from prompt-toolkit<2.0.0,>=1.0.4->ipython>=4.0.0->ipykernel->notebook->livelossplot) (0.1.7)\n",
            "Installing collected packages: livelossplot\n",
            "Successfully installed livelossplot-0.4.1\n"
          ],
          "name": "stdout"
        }
      ]
    },
    {
      "cell_type": "code",
      "metadata": {
        "id": "Pk4DTDsGtEOp",
        "colab_type": "code",
        "colab": {}
      },
      "source": [
        "pip uninstall tensorflow"
      ],
      "execution_count": 0,
      "outputs": []
    },
    {
      "cell_type": "code",
      "metadata": {
        "id": "iMeTDS88SWq-",
        "colab_type": "code",
        "colab": {}
      },
      "source": [
        "pip install tensorflow-gpu"
      ],
      "execution_count": 0,
      "outputs": []
    },
    {
      "cell_type": "code",
      "metadata": {
        "id": "UYxQOzb6IAuS",
        "colab_type": "code",
        "outputId": "b280c040-0482-401c-8c3c-5e3010f3d86f",
        "colab": {
          "base_uri": "https://localhost:8080/",
          "height": 158
        }
      },
      "source": [
        "pip install keras --upgrade"
      ],
      "execution_count": 0,
      "outputs": [
        {
          "output_type": "stream",
          "text": [
            "Requirement already up-to-date: keras in /usr/local/lib/python3.6/dist-packages (2.3.1)\n",
            "Requirement already satisfied, skipping upgrade: pyyaml in /usr/local/lib/python3.6/dist-packages (from keras) (3.13)\n",
            "Requirement already satisfied, skipping upgrade: numpy>=1.9.1 in /usr/local/lib/python3.6/dist-packages (from keras) (1.17.4)\n",
            "Requirement already satisfied, skipping upgrade: scipy>=0.14 in /usr/local/lib/python3.6/dist-packages (from keras) (1.3.2)\n",
            "Requirement already satisfied, skipping upgrade: keras-preprocessing>=1.0.5 in /usr/local/lib/python3.6/dist-packages (from keras) (1.1.0)\n",
            "Requirement already satisfied, skipping upgrade: h5py in /usr/local/lib/python3.6/dist-packages (from keras) (2.8.0)\n",
            "Requirement already satisfied, skipping upgrade: keras-applications>=1.0.6 in /usr/local/lib/python3.6/dist-packages (from keras) (1.0.8)\n",
            "Requirement already satisfied, skipping upgrade: six>=1.9.0 in /usr/local/lib/python3.6/dist-packages (from keras) (1.12.0)\n"
          ],
          "name": "stdout"
        }
      ]
    },
    {
      "cell_type": "markdown",
      "metadata": {
        "id": "Pfdd7rFRRvb3",
        "colab_type": "text"
      },
      "source": [
        "# **Headers**"
      ]
    },
    {
      "cell_type": "code",
      "metadata": {
        "id": "V9SZwIl-Ry6V",
        "colab_type": "code",
        "outputId": "8919ee8e-6f61-4156-b4a3-1811cdfc6b7d",
        "colab": {
          "base_uri": "https://localhost:8080/",
          "height": 81
        }
      },
      "source": [
        "import scipy.io\n",
        "import os\n",
        "import shutil\n",
        "import cv2\n",
        "import pandas as pd\n",
        "from keras_preprocessing.image import ImageDataGenerator\n",
        "import keras\n",
        "import numpy as np\n",
        "import cv2\n",
        "import glob\n",
        "import random\n",
        "import datetime\n",
        "\n",
        "from keras.callbacks import ModelCheckpoint, EarlyStopping, TensorBoard\n",
        "from keras.engine.saving import load_model\n",
        "from keras.models import Model\n",
        "from keras.layers import *\n",
        "from keras.optimizers import Adam\n",
        "import matplotlib.pyplot as plt\n",
        "import keras.backend as kb\n",
        "import tensorflow as tf\n",
        "from livelossplot.keras import PlotLossesCallback\n",
        "\n",
        "from google.colab.patches import cv2_imshow\n",
        "\n",
        "MAIN_DIR_PATH = \"drive/My Drive/Car Classifier/\"\n",
        "LOGS = MAIN_DIR_PATH + \"/logs\"\n",
        "IMG_SHAPE = (224, 224)  # (454, 313, 3)\n",
        "NUM_OF_CLASSES = 1349"
      ],
      "execution_count": 0,
      "outputs": [
        {
          "output_type": "stream",
          "text": [
            "Using TensorFlow backend.\n"
          ],
          "name": "stderr"
        },
        {
          "output_type": "display_data",
          "data": {
            "text/html": [
              "<p style=\"color: red;\">\n",
              "The default version of TensorFlow in Colab will soon switch to TensorFlow 2.x.<br>\n",
              "We recommend you <a href=\"https://www.tensorflow.org/guide/migrate\" target=\"_blank\">upgrade</a> now \n",
              "or ensure your notebook will continue to use TensorFlow 1.x via the <code>%tensorflow_version 1.x</code> magic:\n",
              "<a href=\"https://colab.research.google.com/notebooks/tensorflow_version.ipynb\" target=\"_blank\">more info</a>.</p>\n"
            ],
            "text/plain": [
              "<IPython.core.display.HTML object>"
            ]
          },
          "metadata": {
            "tags": []
          }
        }
      ]
    },
    {
      "cell_type": "code",
      "metadata": {
        "id": "WU97yWE0R5Z1",
        "colab_type": "code",
        "outputId": "70401b49-f4b6-4a93-8a51-dae91f61a7e1",
        "colab": {
          "base_uri": "https://localhost:8080/",
          "height": 143
        }
      },
      "source": [
        "from google.colab import drive\n",
        "drive.flush_and_unmount()\n",
        "drive.mount('/content/drive', force_remount=True)"
      ],
      "execution_count": 0,
      "outputs": [
        {
          "output_type": "stream",
          "text": [
            "Drive not mounted, so nothing to flush and unmount.\n",
            "Go to this URL in a browser: https://accounts.google.com/o/oauth2/auth?client_id=947318989803-6bn6qk8qdgf4n4g3pfee6491hc0brc4i.apps.googleusercontent.com&redirect_uri=urn%3aietf%3awg%3aoauth%3a2.0%3aoob&response_type=code&scope=email%20https%3a%2f%2fwww.googleapis.com%2fauth%2fdocs.test%20https%3a%2f%2fwww.googleapis.com%2fauth%2fdrive%20https%3a%2f%2fwww.googleapis.com%2fauth%2fdrive.photos.readonly%20https%3a%2f%2fwww.googleapis.com%2fauth%2fpeopleapi.readonly\n",
            "\n",
            "Enter your authorization code:\n",
            "··········\n",
            "Mounted at /content/drive\n"
          ],
          "name": "stdout"
        }
      ]
    },
    {
      "cell_type": "markdown",
      "metadata": {
        "id": "O79S6DnoyUtw",
        "colab_type": "text"
      },
      "source": [
        "# **Data Loader Function Definitions**"
      ]
    },
    {
      "cell_type": "code",
      "metadata": {
        "id": "vw49eShNytxY",
        "colab_type": "code",
        "colab": {}
      },
      "source": [
        "def preprocess_image(img, img_shape):\n",
        "    img = cv2.resize(img, img_shape)\n",
        "    img = np.array(img, dtype=np.float64)\n",
        "    img /= 255.0\n",
        "    img = np.expand_dims(img, axis=0)\n",
        "    return img\n",
        "\n",
        "def get_data_frames(csv_training_path, csv_validation_path, csv_test_path):\n",
        "    training_df = pd.read_csv(csv_training_path)\n",
        "    validation_df = pd.read_csv(csv_validation_path)\n",
        "    test_df = pd.read_csv(csv_test_path)\n",
        "\n",
        "    return training_df, validation_df, test_df\n",
        "\n",
        "\n",
        "def get_generators(images_directory, training_df, validation_df, test_df):\n",
        "    datagen = ImageDataGenerator(rescale=1. / 255)\n",
        "    training_generator = datagen.flow_from_dataframe(dataframe=training_df,\n",
        "                                                     directory=images_directory,\n",
        "                                                     x_col=\"filename\",\n",
        "                                                     y_col=\"label\",\n",
        "                                                     target_size=IMG_SHAPE,\n",
        "                                                     color_mode='rgb',\n",
        "                                                     batch_size=64,\n",
        "                                                     class_mode=\"categorical\")\n",
        "\n",
        "    validation_generator = datagen.flow_from_dataframe(dataframe=validation_df,\n",
        "                                                       directory=images_directory,\n",
        "                                                       x_col=\"filename\",\n",
        "                                                       y_col=\"label\",\n",
        "                                                       target_size=IMG_SHAPE,\n",
        "                                                       color_mode='rgb',\n",
        "                                                       batch_size=64,\n",
        "                                                       class_mode=\"categorical\")\n",
        "\n",
        "    test_generator = datagen.flow_from_dataframe(dataframe=test_df,\n",
        "                                                 directory=images_directory,\n",
        "                                                 x_col=\"filename\",\n",
        "                                                 y_col=\"label\",\n",
        "                                                 target_size=IMG_SHAPE,\n",
        "                                                 color_mode='rgb',\n",
        "                                                 batch_size=64,\n",
        "                                                 class_mode=\"categorical\")\n",
        "\n",
        "    return training_generator, validation_generator, test_generator"
      ],
      "execution_count": 0,
      "outputs": []
    },
    {
      "cell_type": "markdown",
      "metadata": {
        "id": "DIh4SDOgy2sf",
        "colab_type": "text"
      },
      "source": [
        "# **Model Function Definitions**"
      ]
    },
    {
      "cell_type": "code",
      "metadata": {
        "id": "r_nw1IMcy6B8",
        "colab_type": "code",
        "colab": {}
      },
      "source": [
        "def get_model(number_of_classes):\n",
        "    base_model = keras.applications.MobileNet(weights='imagenet',\n",
        "                                              include_top=False,\n",
        "                                              input_shape=(224,224, 3))\n",
        "\n",
        "    x = base_model.output\n",
        "    x = keras.layers.GlobalAveragePooling2D()(x)\n",
        "    x = keras.layers.BatchNormalization()(x)\n",
        "    x = keras.layers.Dense(1024, activation='relu',kernel_initializer='random_uniform', bias_initializer='zeros')(x)\n",
        "    x = keras.layers.BatchNormalization()(x)\n",
        "    prediction = keras.layers.Dense(number_of_classes, activation='softmax')(x)\n",
        "\n",
        "    model = keras.models.Model(inputs=base_model.input, outputs=prediction)\n",
        "\n",
        "    return model"
      ],
      "execution_count": 0,
      "outputs": []
    },
    {
      "cell_type": "markdown",
      "metadata": {
        "id": "X39nyZt83DXz",
        "colab_type": "text"
      },
      "source": [
        "# **Training Function Definitions**"
      ]
    },
    {
      "cell_type": "code",
      "metadata": {
        "id": "EEyZzFkj3FvH",
        "colab_type": "code",
        "colab": {}
      },
      "source": [
        "def train_model(training_generator, validation_generator, model_name=\"xception_model\", augment=False, lr=1e-4,\n",
        "                epochs=10, early_stop=False, fine_tune_from=-1, num_of_classes=2, model=None):\n",
        "    \"\"\"\n",
        "    Returns a trained model and the training history.\n",
        "\n",
        "    :param training_generator: the training data generator\n",
        "    :param validation_generator: the validation data generator\n",
        "    :param augment: whether or not the augment the data\n",
        "    :param model_name: name of the new model (weights will be saved under this name)\n",
        "    :param lr: learning rate for model\n",
        "    :param epochs: number of epochs to run for\n",
        "    :param early_stop: whether or not to stop early if the validation and training curves diverge too much\n",
        "    :param fine_tune_from: which layer to start fine tuning from (all layers before this layer will be frozen)\n",
        "    :param num_of_classes: number of classes the model should output\n",
        "    :param model: an existing model to train\n",
        "    \"\"\"\n",
        "\n",
        "    if model is None:\n",
        "        model = get_model(num_of_classes)\n",
        "\n",
        "    # Fine Tuning\n",
        "    if fine_tune_from >= 0:\n",
        "      print(len(model.layers))\n",
        "      for layer in model.layers:\n",
        "          layer.trainable = False\n",
        "\n",
        "      for layer in model.layers[fine_tune_from:]:\n",
        "          layer.trainable = True\n",
        "\n",
        "    # keras.optimizers.SGD(lr=0.01, dmomentum=0.9, nesterov=True)\n",
        "    model.compile(optimizer=keras.optimizers.Adam(lr=lr),\n",
        "                  loss=keras.losses.categorical_crossentropy,\n",
        "                  metrics=['accuracy'])\n",
        "\n",
        "    # Setup training callbacks\n",
        "    callbacks = []\n",
        "    if early_stop:\n",
        "        callbacks.append(keras.callbacks.EarlyStopping(monitor='val_loss', verbose=1, patience=40))\n",
        "    callbacks.append(keras.callbacks.ModelCheckpoint(MAIN_DIR_PATH + \"/\" + model_name + \".h5\", save_best_only=True))\n",
        "    callbacks.append(PlotLossesCallback())\n",
        "\n",
        "    model.summary()\n",
        "\n",
        "    train_step_size = training_generator.n // training_generator.batch_size\n",
        "    history = model.fit_generator(training_generator, validation_data=validation_generator,\n",
        "                                  epochs=epochs, steps_per_epoch=train_step_size,\n",
        "                                  callbacks=callbacks)\n",
        "\n",
        "    return model, history"
      ],
      "execution_count": 0,
      "outputs": []
    },
    {
      "cell_type": "markdown",
      "metadata": {
        "id": "8rrRy1m53LHo",
        "colab_type": "text"
      },
      "source": [
        "# Run"
      ]
    },
    {
      "cell_type": "code",
      "metadata": {
        "id": "NBi8Y1f23X_f",
        "colab_type": "code",
        "outputId": "f7ae05fd-d80b-42f9-9c29-03696da00fd4",
        "colab": {
          "base_uri": "https://localhost:8080/",
          "height": 70
        }
      },
      "source": [
        "# Load data into generators\n",
        "training_df, validation_df, test_df = get_data_frames(MAIN_DIR_PATH + \"data/bmw_training_data.csv\", \n",
        "                                                      MAIN_DIR_PATH + \"data/bmw_validation_data.csv\",\n",
        "                                                      MAIN_DIR_PATH + \"data/bmw_test_data.csv\")\n",
        "training_generator, validation_generator, test_generator = get_generators(MAIN_DIR_PATH, training_df, validation_df, test_df)"
      ],
      "execution_count": 54,
      "outputs": [
        {
          "output_type": "stream",
          "text": [
            "Found 3632 validated image filenames belonging to 146 classes.\n",
            "Found 908 validated image filenames belonging to 146 classes.\n",
            "Found 908 validated image filenames belonging to 146 classes.\n"
          ],
          "name": "stdout"
        }
      ]
    },
    {
      "cell_type": "code",
      "metadata": {
        "id": "lwz8zfQFPRZf",
        "colab_type": "code",
        "outputId": "5a439ea7-4784-449c-dbbb-ba00b7442086",
        "colab": {
          "base_uri": "https://localhost:8080/",
          "height": 449
        }
      },
      "source": [
        "# Train model\n",
        "#loaded_model = load_model(MAIN_DIR_PATH + \"make_model3.h5\")\n",
        "model, history = train_model(training_generator, validation_generator, model_name=\"bmw_model\", augment=False,\n",
        "                              lr=1e-3, epochs=100, early_stop=True, fine_tune_from=0, \n",
        "                             num_of_classes=146, model=None)"
      ],
      "execution_count": 97,
      "outputs": [
        {
          "output_type": "display_data",
          "data": {
            "image/png": "[encoded data removed]",
            "text/plain": [
              "<Figure size 864x576 with 2 Axes>"
            ]
          },
          "metadata": {
            "tags": []
          }
        },
        {
          "output_type": "stream",
          "text": [
            "Log-loss (cost function):\n",
            "training   (min:    0.000, max:    3.162, cur:    0.000)\n",
            "validation (min:    0.714, max:    4.226, cur:    0.717)\n",
            "\n",
            "Accuracy:\n",
            "training   (min:    0.339, max:    1.000, cur:    1.000)\n",
            "validation (min:    0.248, max:    0.824, cur:    0.823)\n"
          ],
          "name": "stdout"
        }
      ]
    },
    {
      "cell_type": "markdown",
      "metadata": {
        "id": "-c2whjIShyBV",
        "colab_type": "text"
      },
      "source": [
        "# **Test**"
      ]
    },
    {
      "cell_type": "code",
      "metadata": {
        "id": "oogXJGHvcE9t",
        "colab_type": "code",
        "colab": {}
      },
      "source": [
        ""
      ],
      "execution_count": 0,
      "outputs": []
    },
    {
      "cell_type": "code",
      "metadata": {
        "id": "HOL2UJ9FcE6O",
        "colab_type": "code",
        "colab": {}
      },
      "source": [
        ""
      ],
      "execution_count": 0,
      "outputs": []
    },
    {
      "cell_type": "code",
      "metadata": {
        "id": "HKC8TKxWcE2v",
        "colab_type": "code",
        "colab": {}
      },
      "source": [
        "model.save_weights(MAIN_DIR_PATH + \"/\" + \"bmw_model_weights\" + \".hdf5\")"
      ],
      "execution_count": 0,
      "outputs": []
    },
    {
      "cell_type": "code",
      "metadata": {
        "id": "nfNJYmW4gJqX",
        "colab_type": "code",
        "colab": {}
      },
      "source": [
        "# Load Car Make model\n",
        "tester_model = keras.models.load_model(MAIN_DIR_PATH + \"bmw_model.h5\")"
      ],
      "execution_count": 0,
      "outputs": []
    },
    {
      "cell_type": "code",
      "metadata": {
        "id": "KzreFyRzht-8",
        "colab_type": "code",
        "outputId": "1326fa00-34be-48d5-92e9-9efdefb0be9e",
        "colab": {
          "base_uri": "https://localhost:8080/",
          "height": 1000
        }
      },
      "source": [
        "#img = cv2.imread(MAIN_DIR_PATH + \"data/image/81/100/2012/0af9d24865feaa.jpg\") \n",
        "img = cv2.imread(MAIN_DIR_PATH + \"data/test/2015_BMW_i8.jpg\") \n",
        "r_img = preprocess_image(img, IMG_SHAPE)\n",
        "\n",
        "result = tester_model.predict(r_img)\n",
        "probs = np.argsort(-result)[:1].flatten()\n",
        "\n",
        "#label_map = {0: 'Acura', 1: 'Aston Martin', 2: 'Audi', 3: 'BWM', 4: 'Bentley', 5: 'Benz', 6: 'Bugatti', 7: 'Ferrari', 8: 'Jaguar', 9: 'Lamorghini ', 10: 'Maserati', 11: 'McLaren', 12: 'Mustang', 13: 'Porsche', 14: 'TESLA'}\n",
        "#label_map = {0: 'BMW 1 Series M 2011', 1: 'BMW 1 Series convertible 2011', 2: 'BMW 1 Series couple 2011', 3: 'BMW 1 Series couple 2013', 4: 'BMW 1 Series hatchback 2010', 5: 'BMW 1 Series hatchback 2012', 6: 'BMW 1 Series hatchback 2013', 7: 'BMW 2 Series 2014', 8: 'BMW 2 Series 2015', 9: 'BMW 2 Series Active Tourer 2014', 10: 'BMW 2 Series Active Tourer 2015', 11: 'BMW 3 Series 2008', 12: 'BMW 3 Series 2009', 13: 'BMW 3 Series 2010', 14: 'BMW 3 Series 2011', 15: 'BMW 3 Series 2012', 16: 'BMW 3 Series 2013', 17: 'BMW 3 Series 2014', 18: 'BMW 3 Series GT 2013', 19: 'BMW 3 Series GT 2014', 20: 'BMW 3 Series convertible 2008', 21: 'BMW 3 Series convertible 2010', 22: 'BMW 3 Series convertible 2011', 23: 'BMW 3 Series convertible 2012', 24: 'BMW 3 Series coupe 2007', 25: 'BMW 3 Series coupe 2009', 26: 'BMW 3 Series coupe 2011', 27: 'BMW 3 Series estate 2013', 28: 'BMW 3 Series estate 2014', 29: 'BMW 3 Series hybrid 2012', 30: 'BMW 3 Series hybrid 2013', 31: 'BMW 4 Series 2014', 32: 'BMW 4 Series convertible 2014', 33: 'BMW 4 Series couple 2013', 34: 'BMW 4 Series couple 2014', 35: 'BMW 5 Series 2009', 36: 'BMW 5 Series 2010', 37: 'BMW 5 Series 2011', 38: 'BMW 5 Series 2012', 39: 'BMW 5 Series 2013', 40: 'BMW 5 Series 2014', 41: 'BMW 5 Series GT 2010', 42: 'BMW 5 Series GT 2011', 43: 'BMW 5 Series GT 2013', 44: 'BMW 5 Series GT 2014', 45: 'BMW 5 Series GT 2015', 46: 'BMW 5 Series estate 2012', 47: 'BMW 5 Series estate 2013', 48: 'BMW 5 Series estate 2014', 49: 'BMW 5 Series hybrid 2013', 50: 'BMW 5 Series hybrid 2014', 51: 'BMW 5 Series hybrid 2015', 52: 'BMW 6 Series 2012', 53: 'BMW 6 Series 2013', 54: 'BMW 6 Series 2014', 55: 'BMW 6 Series convertible 2008', 56: 'BMW 6 Series convertible 2011', 57: 'BMW 6 Series couple 2008', 58: 'BMW 6 Series couple 2010', 59: 'BMW 6 Series couple 2012', 60: 'BMW 6 Series couple 2013', 61: 'BMW 7 Series 2009', 62: 'BMW 7 Series 2010', 63: 'BMW 7 Series 2011', 64: 'BMW 7 Series 2013', 65: 'BMW 7 Series 2014', 66: 'BMW 7 Series 2015', 67: 'BMW 7 Series hybrid 2010', 68: 'BMW 7 Series hybrid 2012', 69: 'BMW 7 Series hybrid 2013', 70: 'BMW Active Tourer 2012', 71: 'BMW Active Tourer 2013', 72: 'BMW Active Tourer 2015', 73: 'BMW ConnectedDrive 2011', 74: 'BMW EfficientDynamics 2009', 75: 'BMW GINA 2008', 76: 'BMW Gran Lusso 2013', 77: 'BMW Isetta 1955', 78: 'BMW M3 2008', 79: 'BMW M3 2014', 80: 'BMW M3 convertible 2008', 81: 'BMW M3 coupe 2008', 82: 'BMW M3 coupe 2010', 83: 'BMW M3 coupe 2011', 84: 'BMW M3 coupe 2013', 85: 'BMW M4 coupe 2014', 86: 'BMW M5 2005', 87: 'BMW M5 2011', 88: 'BMW M5 2012', 89: 'BMW M5 2013', 90: 'BMW M5 2014', 91: 'BMW M6 2013', 92: 'BMW M6 2014', 93: 'BMW M6 coupe 2008', 94: 'BMW M6 coupe 2013', 95: 'BMW M6 coupe 2014', 96: 'BMW Vision Future Luxury 2014', 97: 'BMW X1 2010', 98: 'BMW X1 2012', 99: 'BMW X1 2013', 100: 'BMW X1 2014', 101: 'BMW X3 2009', 102: 'BMW X3 2010', 103: 'BMW X3 2011', 104: 'BMW X3 2012', 105: 'BMW X3 2013', 106: 'BMW X3 2014', 107: 'BMW X4 2013', 108: 'BMW X4 2014', 109: 'BMW X4 2015', 110: 'BMW X5 2008', 111: 'BMW X5 2009', 112: 'BMW X5 2011', 113: 'BMW X5 2012', 114: 'BMW X5 2013', 115: 'BMW X5 2014', 116: 'BMW X5 M 2010', 117: 'BMW X5 M 2013', 118: 'BMW X5 M 2014', 119: 'BMW X5 M 2016', 120: 'BMW X6 2010', 121: 'BMW X6 2011', 122: 'BMW X6 2012', 123: 'BMW X6 2013', 124: 'BMW X6 2014', 125: 'BMW X6 2015', 126: 'BMW X6 M 2010', 127: 'BMW X6 M 2013', 128: 'BMW X6 M 2014', 129: 'BMW X6 M 2015', 130: 'BMW X6 M 2016', 131: 'BMW X6 Series hybrid 2010', 132: 'BMW Z4 2009', 133: 'BMW Z4 2011', 134: 'BMW Z4 2012', 135: 'BMW Z4 2013', 136: 'BMW Z4 2014', 137: 'BMW Zagato Coupe 2012', 138: 'BMW i3 2012', 139: 'BMW i3 2013', 140: 'BMW i3 2014', 141: 'BMW i8 2011', 142: 'BMW i8 2012', 143: 'BMW i8 2013', 144: 'BMW i8 2014', 145: 'BMW i8 2015'}\n",
        "label_map = training_generator.class_indices\n",
        "label_map = dict((v,k) for k,v in label_map.items())\n",
        "\n",
        "for i in range(result.shape[1]):\n",
        "  print(label_map[i] + \" : \" + str(result[0][i]))\n",
        "\n",
        "pred_label = label_map[probs[0]]\n",
        "print(pred_label)\n",
        "\n",
        "cv2.putText(img, \"BMW i8 2015\", (10, 30), cv2.FONT_HERSHEY_SIMPLEX, 1, (0, 0, 0), 2)\n",
        "cv2.putText(img, pred_label, (10, 60), cv2.FONT_HERSHEY_SIMPLEX, 1, (0, 0, 255), 2)\n",
        "cv2.imwrite(MAIN_DIR_PATH + \"results/bmw_model_out_1.jpg\", img)"
      ],
      "execution_count": 116,
      "outputs": [
        {
          "output_type": "stream",
          "text": [
            "BMW 1 Series M 2011 : 0.0075045265\n",
            "BMW 1 Series convertible 2011 : 0.0009037582\n",
            "BMW 1 Series couple 2011 : 0.00013079216\n",
            "BMW 1 Series couple 2013 : 0.0001301042\n",
            "BMW 1 Series hatchback 2010 : 0.00091366755\n",
            "BMW 1 Series hatchback 2012 : 0.029878216\n",
            "BMW 1 Series hatchback 2013 : 1.5734317e-05\n",
            "BMW 2 Series 2014 : 0.00040933135\n",
            "BMW 2 Series 2015 : 0.00018738955\n",
            "BMW 2 Series Active Tourer 2014 : 0.0003276075\n",
            "BMW 2 Series Active Tourer 2015 : 7.930517e-05\n",
            "BMW 3 Series 2008 : 2.6728982e-05\n",
            "BMW 3 Series 2009 : 0.0012991952\n",
            "BMW 3 Series 2010 : 0.00015955135\n",
            "BMW 3 Series 2011 : 0.00022746605\n",
            "BMW 3 Series 2012 : 1.6270247e-05\n",
            "BMW 3 Series 2013 : 6.6841545e-05\n",
            "BMW 3 Series 2014 : 0.00041188506\n",
            "BMW 3 Series GT 2013 : 1.7151586e-05\n",
            "BMW 3 Series GT 2014 : 0.0029762508\n",
            "BMW 3 Series convertible 2008 : 0.00011511061\n",
            "BMW 3 Series convertible 2010 : 0.006023946\n",
            "BMW 3 Series convertible 2011 : 0.000104411636\n",
            "BMW 3 Series convertible 2012 : 0.00032369766\n",
            "BMW 3 Series coupe 2007 : 0.00030546484\n",
            "BMW 3 Series coupe 2009 : 1.5626007e-05\n",
            "BMW 3 Series coupe 2011 : 8.52779e-05\n",
            "BMW 3 Series estate 2013 : 0.03540306\n",
            "BMW 3 Series estate 2014 : 3.435616e-05\n",
            "BMW 3 Series hybrid 2012 : 2.303866e-05\n",
            "BMW 3 Series hybrid 2013 : 6.1137056e-05\n",
            "BMW 4 Series 2014 : 4.5351473e-05\n",
            "BMW 4 Series convertible 2014 : 0.021398723\n",
            "BMW 4 Series couple 2013 : 7.8827645e-05\n",
            "BMW 4 Series couple 2014 : 0.007359018\n",
            "BMW 5 Series 2009 : 3.0137442e-05\n",
            "BMW 5 Series 2010 : 0.00018009532\n",
            "BMW 5 Series 2011 : 1.4817915e-05\n",
            "BMW 5 Series 2012 : 2.0094525e-05\n",
            "BMW 5 Series 2013 : 0.0013985693\n",
            "BMW 5 Series 2014 : 2.8005508e-05\n",
            "BMW 5 Series GT 2010 : 5.0798208e-05\n",
            "BMW 5 Series GT 2011 : 7.474199e-05\n",
            "BMW 5 Series GT 2013 : 2.9347088e-05\n",
            "BMW 5 Series GT 2014 : 7.2291245e-06\n",
            "BMW 5 Series GT 2015 : 2.8220853e-05\n",
            "BMW 5 Series estate 2012 : 1.9675399e-05\n",
            "BMW 5 Series estate 2013 : 0.00014416159\n",
            "BMW 5 Series estate 2014 : 4.9410933e-06\n",
            "BMW 5 Series hybrid 2013 : 9.196737e-05\n",
            "BMW 5 Series hybrid 2014 : 8.672675e-06\n",
            "BMW 5 Series hybrid 2015 : 0.0004161272\n",
            "BMW 6 Series 2012 : 1.5080595e-06\n",
            "BMW 6 Series 2013 : 2.5996507e-05\n",
            "BMW 6 Series 2014 : 0.0001311025\n",
            "BMW 6 Series convertible 2008 : 0.00084732025\n",
            "BMW 6 Series convertible 2011 : 0.015409268\n",
            "BMW 6 Series couple 2008 : 0.004631595\n",
            "BMW 6 Series couple 2010 : 0.00011940741\n",
            "BMW 6 Series couple 2012 : 0.00024418955\n",
            "BMW 6 Series couple 2013 : 2.403931e-05\n",
            "BMW 7 Series 2009 : 0.00011173269\n",
            "BMW 7 Series 2010 : 2.4576011e-05\n",
            "BMW 7 Series 2011 : 3.079572e-05\n",
            "BMW 7 Series 2013 : 0.00027443518\n",
            "BMW 7 Series 2014 : 7.436066e-06\n",
            "BMW 7 Series 2015 : 6.7377485e-05\n",
            "BMW 7 Series hybrid 2010 : 2.6117876e-05\n",
            "BMW 7 Series hybrid 2012 : 6.5902546e-05\n",
            "BMW 7 Series hybrid 2013 : 0.0008586263\n",
            "BMW Active Tourer 2012 : 2.8719009e-05\n",
            "BMW Active Tourer 2013 : 0.0010022322\n",
            "BMW Active Tourer 2015 : 0.0010145033\n",
            "BMW ConnectedDrive 2011 : 6.060398e-05\n",
            "BMW EfficientDynamics 2009 : 0.014519214\n",
            "BMW GINA 2008 : 0.00022859087\n",
            "BMW Gran Lusso 2013 : 0.00034276064\n",
            "BMW Isetta 1955 : 0.002151293\n",
            "BMW M3 2008 : 0.00059807394\n",
            "BMW M3 2014 : 0.00021478643\n",
            "BMW M3 convertible 2008 : 0.0012649343\n",
            "BMW M3 coupe 2008 : 0.0007236467\n",
            "BMW M3 coupe 2010 : 0.00017944434\n",
            "BMW M3 coupe 2011 : 7.527837e-05\n",
            "BMW M3 coupe 2013 : 9.1739435e-05\n",
            "BMW M4 coupe 2014 : 0.0019964823\n",
            "BMW M5 2005 : 0.0001911181\n",
            "BMW M5 2011 : 0.0005465272\n",
            "BMW M5 2012 : 0.00010349542\n",
            "BMW M5 2013 : 0.00022950832\n",
            "BMW M5 2014 : 0.0081524\n",
            "BMW M6 2013 : 0.00020464926\n",
            "BMW M6 2014 : 0.051011093\n",
            "BMW M6 coupe 2008 : 0.00032765765\n",
            "BMW M6 coupe 2013 : 0.00012819882\n",
            "BMW M6 coupe 2014 : 0.00015135983\n",
            "BMW Vision Future Luxury 2014 : 0.00042977667\n",
            "BMW X1 2010 : 5.6579265e-05\n",
            "BMW X1 2012 : 2.563798e-05\n",
            "BMW X1 2013 : 0.0001872268\n",
            "BMW X1 2014 : 8.0038844e-05\n",
            "BMW X3 2009 : 2.8063232e-05\n",
            "BMW X3 2010 : 0.00038205794\n",
            "BMW X3 2011 : 4.2220814e-05\n",
            "BMW X3 2012 : 0.00024359483\n",
            "BMW X3 2013 : 0.00020076451\n",
            "BMW X3 2014 : 0.00031507522\n",
            "BMW X4 2013 : 0.00040128306\n",
            "BMW X4 2014 : 1.7508877e-05\n",
            "BMW X4 2015 : 0.00033570497\n",
            "BMW X5 2008 : 5.6560923e-05\n",
            "BMW X5 2009 : 1.3067876e-05\n",
            "BMW X5 2011 : 5.644582e-05\n",
            "BMW X5 2012 : 0.00023110959\n",
            "BMW X5 2013 : 3.0269453e-05\n",
            "BMW X5 2014 : 3.408356e-05\n",
            "BMW X5 M 2010 : 0.010631701\n",
            "BMW X5 M 2013 : 0.0008307129\n",
            "BMW X5 M 2014 : 0.0005935394\n",
            "BMW X5 M 2016 : 0.001778423\n",
            "BMW X6 2010 : 0.0007792596\n",
            "BMW X6 2011 : 8.375369e-05\n",
            "BMW X6 2012 : 0.000785991\n",
            "BMW X6 2013 : 0.000646769\n",
            "BMW X6 2014 : 1.6924625e-05\n",
            "BMW X6 2015 : 0.013674613\n",
            "BMW X6 M 2010 : 2.3982702e-05\n",
            "BMW X6 M 2013 : 0.0006349477\n",
            "BMW X6 M 2014 : 0.00012025972\n",
            "BMW X6 M 2015 : 0.000101855796\n",
            "BMW X6 M 2016 : 0.0023625866\n",
            "BMW X6 Series hybrid 2010 : 8.550333e-06\n",
            "BMW Z4 2009 : 0.00462273\n",
            "BMW Z4 2011 : 0.0005053953\n",
            "BMW Z4 2012 : 8.416397e-05\n",
            "BMW Z4 2013 : 0.00070117717\n",
            "BMW Z4 2014 : 0.00095870404\n",
            "BMW Zagato Coupe 2012 : 0.0024030968\n",
            "BMW i3 2012 : 4.001532e-05\n",
            "BMW i3 2013 : 0.0009990163\n",
            "BMW i3 2014 : 0.6553247\n",
            "BMW i8 2011 : 0.00028240358\n",
            "BMW i8 2012 : 0.0047385986\n",
            "BMW i8 2013 : 0.0020337577\n",
            "BMW i8 2014 : 0.06135481\n",
            "BMW i8 2015 : 0.0016642429\n",
            "BMW i3 2014\n"
          ],
          "name": "stdout"
        },
        {
          "output_type": "execute_result",
          "data": {
            "text/plain": [
              "True"
            ]
          },
          "metadata": {
            "tags": []
          },
          "execution_count": 116
        }
      ]
    }
  ]
}